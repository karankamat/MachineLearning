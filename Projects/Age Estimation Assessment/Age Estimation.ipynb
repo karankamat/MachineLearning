{
 "cells": [
  {
   "cell_type": "markdown",
   "metadata": {
    "id": "SsVcTP8NlRKH"
   },
   "source": [
    "![alt text](https://toothlens.com/wp-content/uploads/2022/02/Toothlens_footer_Logo-e1644900904159.png)\n",
    "\n"
   ]
  },
  {
   "cell_type": "markdown",
   "metadata": {
    "id": "tdKRGy328CpH"
   },
   "source": [
    "# Application Task\n",
    "\n",
    "## Age Estimation\n",
    "The following task consist of designing, training and evaluating a neural network for age estimation of face images. For this task there is not any predefined code and you are completely free to prototype it by yourself. Instead of solving the age prediction task as a label classification problem, we want to estimate the age from a predicted distribution (see the figure below, where the age label $43$ is plotted as a distribution $\\mathcal{N}(43,9)$).\n",
    "\n",
    "![alt text](https://drive.google.com/uc?id=125fuZLgtaszXfV9FNppTBDUrGR2EJ9O5)\n"
   ]
  },
  {
   "cell_type": "markdown",
   "metadata": {
    "id": "sGSeOctJ9yFY"
   },
   "source": [
    "## References\n",
    "1. [UTK Face Dataset](https://susanqq.github.io/UTKFace/)"
   ]
  },
  {
   "cell_type": "markdown",
   "metadata": {},
   "source": [
    "### Imports"
   ]
  },
  {
   "cell_type": "code",
   "execution_count": 2,
   "metadata": {},
   "outputs": [],
   "source": [
    "import os\n",
    "import pandas as pd\n",
    "import numpy as np\n",
    "import seaborn as sns\n",
    "import tensorflow as tf\n",
    "\n",
    "from PIL import Image\n",
    "from sklearn.model_selection import train_test_split\n",
    "from keras.models import Sequential\n",
    "from keras.layers import Conv2D, MaxPooling2D, Activation, Dropout, Flatten, Dense\n",
    "from keras import optimizers\n",
    "from keras.preprocessing.image import ImageDataGenerator\n"
   ]
  },
  {
   "cell_type": "markdown",
   "metadata": {
    "id": "byFWnvmTDE_Y"
   },
   "source": [
    "### Loading Data"
   ]
  },
  {
   "cell_type": "code",
   "execution_count": 3,
   "metadata": {},
   "outputs": [],
   "source": [
    "ages = []\n",
    "images = []\n",
    "\n",
    "for i in os.listdir('utk_sample/'):\n",
    "    split = i.split('_')\n",
    "    # print(split)\n",
    "    ages.append(int(split[0]))\n",
    "    images.append(Image.open('utk_sample/' + i))"
   ]
  },
  {
   "cell_type": "code",
   "execution_count": 4,
   "metadata": {},
   "outputs": [
    {
     "data": {
      "text/plain": [
       "list"
      ]
     },
     "execution_count": 4,
     "metadata": {},
     "output_type": "execute_result"
    }
   ],
   "source": [
    "type(images)"
   ]
  },
  {
   "cell_type": "code",
   "execution_count": 5,
   "metadata": {},
   "outputs": [
    {
     "data": {
      "text/html": [
       "<div>\n",
       "<style scoped>\n",
       "    .dataframe tbody tr th:only-of-type {\n",
       "        vertical-align: middle;\n",
       "    }\n",
       "\n",
       "    .dataframe tbody tr th {\n",
       "        vertical-align: top;\n",
       "    }\n",
       "\n",
       "    .dataframe thead th {\n",
       "        text-align: right;\n",
       "    }\n",
       "</style>\n",
       "<table border=\"1\" class=\"dataframe\">\n",
       "  <thead>\n",
       "    <tr style=\"text-align: right;\">\n",
       "      <th></th>\n",
       "      <th>Images</th>\n",
       "      <th>Ages</th>\n",
       "    </tr>\n",
       "  </thead>\n",
       "  <tbody>\n",
       "    <tr>\n",
       "      <th>0</th>\n",
       "      <td>&lt;PIL.JpegImagePlugin.JpegImageFile image mode=...</td>\n",
       "      <td>100</td>\n",
       "    </tr>\n",
       "    <tr>\n",
       "      <th>1</th>\n",
       "      <td>&lt;PIL.JpegImagePlugin.JpegImageFile image mode=...</td>\n",
       "      <td>10</td>\n",
       "    </tr>\n",
       "    <tr>\n",
       "      <th>2</th>\n",
       "      <td>&lt;PIL.JpegImagePlugin.JpegImageFile image mode=...</td>\n",
       "      <td>10</td>\n",
       "    </tr>\n",
       "    <tr>\n",
       "      <th>3</th>\n",
       "      <td>&lt;PIL.JpegImagePlugin.JpegImageFile image mode=...</td>\n",
       "      <td>10</td>\n",
       "    </tr>\n",
       "    <tr>\n",
       "      <th>4</th>\n",
       "      <td>&lt;PIL.JpegImagePlugin.JpegImageFile image mode=...</td>\n",
       "      <td>10</td>\n",
       "    </tr>\n",
       "    <tr>\n",
       "      <th>5</th>\n",
       "      <td>&lt;PIL.JpegImagePlugin.JpegImageFile image mode=...</td>\n",
       "      <td>11</td>\n",
       "    </tr>\n",
       "    <tr>\n",
       "      <th>6</th>\n",
       "      <td>&lt;PIL.JpegImagePlugin.JpegImageFile image mode=...</td>\n",
       "      <td>11</td>\n",
       "    </tr>\n",
       "    <tr>\n",
       "      <th>7</th>\n",
       "      <td>&lt;PIL.JpegImagePlugin.JpegImageFile image mode=...</td>\n",
       "      <td>11</td>\n",
       "    </tr>\n",
       "    <tr>\n",
       "      <th>8</th>\n",
       "      <td>&lt;PIL.JpegImagePlugin.JpegImageFile image mode=...</td>\n",
       "      <td>12</td>\n",
       "    </tr>\n",
       "    <tr>\n",
       "      <th>9</th>\n",
       "      <td>&lt;PIL.JpegImagePlugin.JpegImageFile image mode=...</td>\n",
       "      <td>12</td>\n",
       "    </tr>\n",
       "  </tbody>\n",
       "</table>\n",
       "</div>"
      ],
      "text/plain": [
       "                                              Images  Ages\n",
       "0  <PIL.JpegImagePlugin.JpegImageFile image mode=...   100\n",
       "1  <PIL.JpegImagePlugin.JpegImageFile image mode=...    10\n",
       "2  <PIL.JpegImagePlugin.JpegImageFile image mode=...    10\n",
       "3  <PIL.JpegImagePlugin.JpegImageFile image mode=...    10\n",
       "4  <PIL.JpegImagePlugin.JpegImageFile image mode=...    10\n",
       "5  <PIL.JpegImagePlugin.JpegImageFile image mode=...    11\n",
       "6  <PIL.JpegImagePlugin.JpegImageFile image mode=...    11\n",
       "7  <PIL.JpegImagePlugin.JpegImageFile image mode=...    11\n",
       "8  <PIL.JpegImagePlugin.JpegImageFile image mode=...    12\n",
       "9  <PIL.JpegImagePlugin.JpegImageFile image mode=...    12"
      ]
     },
     "execution_count": 5,
     "metadata": {},
     "output_type": "execute_result"
    }
   ],
   "source": [
    "images = pd.Series(images, name='Images')\n",
    "ages = pd.Series(ages, name='Ages')\n",
    "\n",
    "data = pd.concat([images, ages], axis=1)\n",
    "data.head(10)"
   ]
  },
  {
   "cell_type": "markdown",
   "metadata": {},
   "source": [
    "### Lets visualize the data"
   ]
  },
  {
   "cell_type": "code",
   "execution_count": 6,
   "metadata": {
    "scrolled": true
   },
   "outputs": [
    {
     "data": {
      "text/plain": [
       "<AxesSubplot: xlabel='Ages', ylabel='Count'>"
      ]
     },
     "execution_count": 6,
     "metadata": {},
     "output_type": "execute_result"
    },
    {
     "data": {
      "image/png": "[encoded data removed]",
      "text/plain": [
       "<Figure size 640x480 with 1 Axes>"
      ]
     },
     "metadata": {},
     "output_type": "display_data"
    }
   ],
   "source": [
    "sns.set_theme()\n",
    "sns.histplot(data['Ages'], bins=10, kde=True)"
   ]
  },
  {
   "cell_type": "code",
   "execution_count": 7,
   "metadata": {},
   "outputs": [
    {
     "data": {
      "text/plain": [
       "<AxesSubplot: >"
      ]
     },
     "execution_count": 7,
     "metadata": {},
     "output_type": "execute_result"
    },
    {
     "data": {
      "image/png": "[encoded data removed]",
      "text/plain": [
       "<Figure size 640x480 with 1 Axes>"
      ]
     },
     "metadata": {},
     "output_type": "display_data"
    }
   ],
   "source": [
    "sns.boxplot(data=data['Ages'])"
   ]
  },
  {
   "cell_type": "markdown",
   "metadata": {},
   "source": [
    "### Exploratory Data Analysis"
   ]
  },
  {
   "cell_type": "code",
   "execution_count": 7,
   "metadata": {},
   "outputs": [
    {
     "data": {
      "text/plain": [
       "8"
      ]
     },
     "execution_count": 7,
     "metadata": {},
     "output_type": "execute_result"
    }
   ],
   "source": [
    "data[data.Ages > 80].count()[0]"
   ]
  },
  {
   "cell_type": "markdown",
   "metadata": {},
   "source": [
    "##### SInce there are merely 8 data points as we go above the age of 80, clearly visible in the box plot, we will be dropping out those data points as it might affect the accuracy of the model for the age above 80."
   ]
  },
  {
   "cell_type": "code",
   "execution_count": 8,
   "metadata": {},
   "outputs": [],
   "source": [
    "data = data[data.Ages < 80]"
   ]
  },
  {
   "cell_type": "code",
   "execution_count": 8,
   "metadata": {},
   "outputs": [
    {
     "data": {
      "text/plain": [
       "<AxesSubplot: xlabel='Ages', ylabel='Count'>"
      ]
     },
     "execution_count": 8,
     "metadata": {},
     "output_type": "execute_result"
    },
    {
     "data": {
      "image/png": "[encoded data removed]",
      "text/plain": [
       "<Figure size 640x480 with 1 Axes>"
      ]
     },
     "metadata": {},
     "output_type": "display_data"
    }
   ],
   "source": [
    "sns.histplot(data['Ages'], bins=10, kde=True)"
   ]
  },
  {
   "cell_type": "markdown",
   "metadata": {},
   "source": [
    "### Train Test Split"
   ]
  },
  {
   "cell_type": "code",
   "execution_count": 12,
   "metadata": {},
   "outputs": [
    {
     "name": "stderr",
     "output_type": "stream",
     "text": [
      "C:\\Users\\Karan\\AppData\\Local\\Temp\\ipykernel_8456\\3150053568.py:4: SettingWithCopyWarning: \n",
      "A value is trying to be set on a copy of a slice from a DataFrame\n",
      "\n",
      "See the caveats in the documentation: https://pandas.pydata.org/pandas-docs/stable/user_guide/indexing.html#returning-a-view-versus-a-copy\n",
      "  data['Images'].iloc[i] = data['Images'].iloc[i].resize((200,200), Image.Resampling.LANCZOS)\n"
     ]
    }
   ],
   "source": [
    "X = []\n",
    "\n",
    "for i in range(len(data)):\n",
    "    data['Images'].iloc[i] = data['Images'].iloc[i].resize((200,200), Image.Resampling.LANCZOS)\n",
    "    ar = np.asarray(data['Images'].iloc[i])\n",
    "    X.append(ar)\n",
    "X = np.array(X)"
   ]
  },
  {
   "cell_type": "code",
   "execution_count": 13,
   "metadata": {},
   "outputs": [],
   "source": [
    "y = data['Ages']\n",
    "\n",
    "X_train, X_test, y_train, y_test = train_test_split(X, y, test_size=0.25)"
   ]
  },
  {
   "cell_type": "markdown",
   "metadata": {},
   "source": [
    "### Creating the model"
   ]
  },
  {
   "cell_type": "code",
   "execution_count": 14,
   "metadata": {},
   "outputs": [
    {
     "name": "stderr",
     "output_type": "stream",
     "text": [
      "C:\\Users\\Karan\\AppData\\Roaming\\Python\\Python310\\site-packages\\keras\\optimizers\\optimizer_v2\\adam.py:117: UserWarning: The `lr` argument is deprecated, use `learning_rate` instead.\n",
      "  super().__init__(name, **kwargs)\n"
     ]
    }
   ],
   "source": [
    "agemodel = Sequential()\n",
    "agemodel.add(Conv2D(32, (3,3), activation='relu', input_shape=(200, 200, 3)))\n",
    "agemodel.add(MaxPooling2D((2,2)))\n",
    "agemodel.add(Conv2D(64, (3,3), activation='relu'))\n",
    "agemodel.add(MaxPooling2D((2,2)))\n",
    "agemodel.add(Conv2D(128, (3,3), activation='relu'))\n",
    "agemodel.add(MaxPooling2D((2,2)))\n",
    "agemodel.add(Flatten())\n",
    "agemodel.add(Dense(64, activation='relu'))\n",
    "agemodel.add(Dropout(0.5))\n",
    "agemodel.add(Dense(1, activation='relu'))\n",
    "\n",
    "agemodel.compile(loss='mean_squared_error',\n",
    "             optimizer=optimizers.Adam(lr=0.0001))\n"
   ]
  },
  {
   "cell_type": "markdown",
   "metadata": {},
   "source": [
    "### Training the model"
   ]
  },
  {
   "cell_type": "code",
   "execution_count": 14,
   "metadata": {},
   "outputs": [
    {
     "name": "stdout",
     "output_type": "stream",
     "text": [
      "Epoch 1/50\n",
      "5/5 [==============================] - 5s 756ms/step - loss: 917.8800 - val_loss: 1116.4259\n",
      "Epoch 2/50\n",
      "5/5 [==============================] - 4s 706ms/step - loss: 771.9042 - val_loss: 883.0776\n",
      "Epoch 3/50\n",
      "5/5 [==============================] - 3s 613ms/step - loss: 600.0431 - val_loss: 663.2650\n",
      "Epoch 4/50\n",
      "5/5 [==============================] - 3s 699ms/step - loss: 502.8792 - val_loss: 636.7215\n",
      "Epoch 5/50\n",
      "5/5 [==============================] - 3s 564ms/step - loss: 564.1299 - val_loss: 633.7299\n",
      "Epoch 6/50\n",
      "5/5 [==============================] - 3s 620ms/step - loss: 498.7299 - val_loss: 649.4011\n",
      "Epoch 7/50\n",
      "5/5 [==============================] - 3s 603ms/step - loss: 546.7490 - val_loss: 673.6244\n",
      "Epoch 8/50\n",
      "5/5 [==============================] - 3s 677ms/step - loss: 494.9679 - val_loss: 646.5417\n",
      "Epoch 9/50\n",
      "5/5 [==============================] - 3s 620ms/step - loss: 488.6323 - val_loss: 630.2873\n",
      "Epoch 10/50\n",
      "5/5 [==============================] - 3s 617ms/step - loss: 510.0598 - val_loss: 621.8610\n",
      "Epoch 11/50\n",
      "5/5 [==============================] - 3s 614ms/step - loss: 500.1148 - val_loss: 622.7471\n",
      "Epoch 12/50\n",
      "5/5 [==============================] - 3s 655ms/step - loss: 519.9079 - val_loss: 632.3676\n",
      "Epoch 13/50\n",
      "5/5 [==============================] - 3s 610ms/step - loss: 491.2950 - val_loss: 636.1144\n",
      "Epoch 14/50\n",
      "5/5 [==============================] - 3s 673ms/step - loss: 466.5670 - val_loss: 633.5512\n",
      "Epoch 15/50\n",
      "5/5 [==============================] - 3s 619ms/step - loss: 478.0590 - val_loss: 614.6324\n",
      "Epoch 16/50\n",
      "5/5 [==============================] - 3s 598ms/step - loss: 475.6601 - val_loss: 610.9014\n",
      "Epoch 17/50\n",
      "5/5 [==============================] - 3s 595ms/step - loss: 458.8499 - val_loss: 628.3046\n",
      "Epoch 18/50\n",
      "5/5 [==============================] - 3s 592ms/step - loss: 470.6348 - val_loss: 627.2664\n",
      "Epoch 19/50\n",
      "5/5 [==============================] - 3s 603ms/step - loss: 470.1680 - val_loss: 605.9196\n",
      "Epoch 20/50\n",
      "5/5 [==============================] - 3s 604ms/step - loss: 454.8446 - val_loss: 604.1075\n",
      "Epoch 21/50\n",
      "5/5 [==============================] - 3s 594ms/step - loss: 441.4944 - val_loss: 612.9354\n",
      "Epoch 22/50\n",
      "5/5 [==============================] - 3s 599ms/step - loss: 465.8607 - val_loss: 600.7448\n",
      "Epoch 23/50\n",
      "5/5 [==============================] - 3s 595ms/step - loss: 469.1875 - val_loss: 607.8996\n",
      "Epoch 24/50\n",
      "5/5 [==============================] - 3s 670ms/step - loss: 470.0007 - val_loss: 614.6235\n",
      "Epoch 25/50\n",
      "5/5 [==============================] - 3s 602ms/step - loss: 474.7710 - val_loss: 599.0131\n",
      "Epoch 26/50\n",
      "5/5 [==============================] - 3s 556ms/step - loss: 432.9721 - val_loss: 594.9957\n",
      "Epoch 27/50\n",
      "5/5 [==============================] - 3s 620ms/step - loss: 482.1692 - val_loss: 626.2408\n",
      "Epoch 28/50\n",
      "5/5 [==============================] - 3s 592ms/step - loss: 463.0905 - val_loss: 607.9073\n",
      "Epoch 29/50\n",
      "5/5 [==============================] - 3s 611ms/step - loss: 450.0654 - val_loss: 600.1550\n",
      "Epoch 30/50\n",
      "5/5 [==============================] - 3s 620ms/step - loss: 416.7233 - val_loss: 591.8243\n",
      "Epoch 31/50\n",
      "5/5 [==============================] - 3s 628ms/step - loss: 450.0195 - val_loss: 588.5793\n",
      "Epoch 32/50\n",
      "5/5 [==============================] - 3s 683ms/step - loss: 412.5371 - val_loss: 594.5103\n",
      "Epoch 33/50\n",
      "5/5 [==============================] - 3s 586ms/step - loss: 415.8575 - val_loss: 597.9271\n",
      "Epoch 34/50\n",
      "5/5 [==============================] - 3s 610ms/step - loss: 435.1309 - val_loss: 582.4665\n",
      "Epoch 35/50\n",
      "5/5 [==============================] - 3s 618ms/step - loss: 426.6175 - val_loss: 585.0700\n",
      "Epoch 36/50\n",
      "5/5 [==============================] - 3s 589ms/step - loss: 409.2474 - val_loss: 587.0075\n",
      "Epoch 37/50\n",
      "5/5 [==============================] - 3s 618ms/step - loss: 418.3105 - val_loss: 582.0685\n",
      "Epoch 38/50\n",
      "5/5 [==============================] - 3s 616ms/step - loss: 415.7258 - val_loss: 588.6274\n",
      "Epoch 39/50\n",
      "5/5 [==============================] - 3s 606ms/step - loss: 409.1713 - val_loss: 572.6131\n",
      "Epoch 40/50\n",
      "5/5 [==============================] - 3s 561ms/step - loss: 419.9745 - val_loss: 573.7522\n",
      "Epoch 41/50\n",
      "5/5 [==============================] - 3s 675ms/step - loss: 422.6387 - val_loss: 640.8516\n",
      "Epoch 42/50\n",
      "5/5 [==============================] - 3s 689ms/step - loss: 402.3616 - val_loss: 568.5014\n",
      "Epoch 43/50\n",
      "5/5 [==============================] - 3s 625ms/step - loss: 396.7634 - val_loss: 561.5050\n",
      "Epoch 44/50\n",
      "5/5 [==============================] - 3s 614ms/step - loss: 384.7061 - val_loss: 577.8322\n",
      "Epoch 45/50\n",
      "5/5 [==============================] - 3s 667ms/step - loss: 388.0105 - val_loss: 569.0333\n",
      "Epoch 46/50\n",
      "5/5 [==============================] - 3s 677ms/step - loss: 385.4054 - val_loss: 557.1257\n",
      "Epoch 47/50\n",
      "5/5 [==============================] - 3s 680ms/step - loss: 346.7816 - val_loss: 563.2392\n",
      "Epoch 48/50\n",
      "5/5 [==============================] - 3s 671ms/step - loss: 336.3348 - val_loss: 553.5726\n",
      "Epoch 49/50\n",
      "5/5 [==============================] - 3s 666ms/step - loss: 321.3713 - val_loss: 547.1827\n",
      "Epoch 50/50\n",
      "5/5 [==============================] - 3s 593ms/step - loss: 350.8280 - val_loss: 550.9612\n"
     ]
    }
   ],
   "source": [
    "datagen = ImageDataGenerator(\n",
    "      rescale=1./255., width_shift_range = 0.1, height_shift_range = 0.1, horizontal_flip = True)\n",
    "\n",
    "test_datagen = ImageDataGenerator(rescale=1./255)\n",
    "\n",
    "train1 = datagen.flow(X_train, y_train, batch_size=32)\n",
    "\n",
    "test1 = test_datagen.flow(X_test, y_test, batch_size=32)\n",
    "\n",
    "history1 = agemodel.fit(train1, epochs=50, shuffle=True, validation_data=test1)\n"
   ]
  },
  {
   "cell_type": "markdown",
   "metadata": {},
   "source": [
    "### Evaluating the model"
   ]
  },
  {
   "cell_type": "code",
   "execution_count": 15,
   "metadata": {},
   "outputs": [],
   "source": [
    "def processAndPredict(file):\n",
    "    im = Image.open(file)\n",
    "    width, height = im.size\n",
    "    if width == height:\n",
    "        im = im.resize((200,200), Image.ANTIALIAS)\n",
    "    else:\n",
    "        if width > height:\n",
    "            left = width/2 - height/2\n",
    "            right = width/2 + height/2\n",
    "            top = 0\n",
    "            bottom = height\n",
    "            im = im.crop((left,top,right,bottom))\n",
    "            im = im.resize((200,200), Image.ANTIALIAS)\n",
    "        else:\n",
    "            left = 0\n",
    "            right = width\n",
    "            top = 0\n",
    "            bottom = width\n",
    "            im = im.crop((left,top,right,bottom))\n",
    "            im = im.resize((200,200), Image.ANTIALIAS)\n",
    "            \n",
    "    ar = np.asarray(im)\n",
    "    ar = ar.astype('float32')\n",
    "    ar /= 255.0\n",
    "    ar = ar.reshape(-1, 200, 200, 3)\n",
    "    \n",
    "    age = agemodel.predict(ar)\n",
    "        \n",
    "    print('Age:', int(age))\n",
    "    return im.resize((300,300), Image.ANTIALIAS)"
   ]
  },
  {
   "cell_type": "markdown",
   "metadata": {},
   "source": [
    "### We can use the above function to validate images"
   ]
  },
  {
   "cell_type": "code",
   "execution_count": 16,
   "metadata": {},
   "outputs": [],
   "source": [
    "# processAndPredict('filepath')"
   ]
  },
  {
   "cell_type": "code",
   "execution_count": null,
   "metadata": {},
   "outputs": [],
   "source": []
  }
 ],
 "metadata": {
  "colab": {
   "collapsed_sections": [],
   "name": "paper_implementation_task.ipynb",
   "provenance": [
    {
     "file_id": "1ClOIrBA0mNjZkmMex4bTbIltuhRhlFq9",
     "timestamp": 1656720297400
    }
   ]
  },
  "kernelspec": {
   "display_name": "Python 3 (ipykernel)",
   "language": "python",
   "name": "python3"
  },
  "language_info": {
   "codemirror_mode": {
    "name": "ipython",
    "version": 3
   },
   "file_extension": ".py",
   "mimetype": "text/x-python",
   "name": "python",
   "nbconvert_exporter": "python",
   "pygments_lexer": "ipython3",
   "version": "3.10.4"
  }
 },
 "nbformat": 4,
 "nbformat_minor": 1
}
