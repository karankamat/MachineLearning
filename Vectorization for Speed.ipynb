{
 "cells": [
  {
   "cell_type": "markdown",
   "id": "d452dab2",
   "metadata": {},
   "source": [
    "#### Importing required libraries"
   ]
  },
  {
   "cell_type": "code",
   "execution_count": 16,
   "id": "d1c1e936",
   "metadata": {
    "scrolled": true
   },
   "outputs": [],
   "source": [
    "import math  # Mathematical constants\n",
    "import time  # Time module\n",
    "import numpy as np  # Mathematical operations\n",
    "import tensorflow as tf  # Neural networks"
   ]
  },
  {
   "cell_type": "markdown",
   "id": "ee60b30c",
   "metadata": {},
   "source": [
    "Instantiate two 10,000-dimensional vectors containing all ones, and creating two vectors."
   ]
  },
  {
   "cell_type": "code",
   "execution_count": 7,
   "id": "dcad8444",
   "metadata": {},
   "outputs": [],
   "source": [
    "n = 10000 \n",
    "a = tf.ones(n)\n",
    "b = tf.ones(n)"
   ]
  },
  {
   "cell_type": "markdown",
   "id": "4c6018dd",
   "metadata": {},
   "source": [
    "Adding the two vectors using for loop."
   ]
  },
  {
   "cell_type": "code",
   "execution_count": 24,
   "id": "d9347616",
   "metadata": {},
   "outputs": [
    {
     "name": "stdout",
     "output_type": "stream",
     "text": [
      "Time taken for the operation:7.829\n"
     ]
    }
   ],
   "source": [
    "c = tf.Variable(tf.zeros(n))\n",
    "t = time.time()  # time just before the operation\n",
    "for i in range(n):\n",
    "    c[i].assign(a[i] + b[i])\n",
    "print(f'Time taken for the operation:{time.time() - t:.3f}')"
   ]
  },
  {
   "cell_type": "code",
   "execution_count": 22,
   "id": "f41a2983",
   "metadata": {},
   "outputs": [
    {
     "name": "stdout",
     "output_type": "stream",
     "text": [
      "Type of variable a: <class 'tensorflow.python.framework.ops.EagerTensor'> \n",
      "Type of variable c: <class 'tensorflow.python.ops.resource_variable_ops.ResourceVariable'>\n"
     ]
    }
   ],
   "source": [
    "print('Type of variable a:',type(a),'\\nType of variable c:',type(c))"
   ]
  },
  {
   "cell_type": "markdown",
   "id": "30759dd8",
   "metadata": {},
   "source": [
    "A Variable is a Tensor with additional capability and utility.\n",
    "Link: https://stackoverflow.com/questions/44167134/whats-the-difference-between-tensor-and-variable-in-tensorflow"
   ]
  },
  {
   "cell_type": "markdown",
   "id": "784e0818",
   "metadata": {},
   "source": [
    "The time taken for the operation using the traditional for loop is dramatically slower, here we can use elementwise vector addition."
   ]
  },
  {
   "cell_type": "code",
   "execution_count": 25,
   "id": "de2ee4f3",
   "metadata": {},
   "outputs": [
    {
     "name": "stdout",
     "output_type": "stream",
     "text": [
      "Time taken for the operation using vector addition:0.001\n"
     ]
    }
   ],
   "source": [
    "t = time.time()\n",
    "d = a + b\n",
    "print(f'Time taken for the operation using vector addition:{time.time() - t:.3f}')"
   ]
  },
  {
   "cell_type": "markdown",
   "id": "7e861262",
   "metadata": {},
   "source": [
    "Vectorizing the code often yields order-of-magnitude speedups. Assigning mathematics to the library reduces the chances of errors and increasing the protability of the code."
   ]
  },
  {
   "cell_type": "code",
   "execution_count": null,
   "id": "91450ec1",
   "metadata": {},
   "outputs": [],
   "source": []
  }
 ],
 "metadata": {
  "kernelspec": {
   "display_name": "Python 3 (ipykernel)",
   "language": "python",
   "name": "python3"
  },
  "language_info": {
   "codemirror_mode": {
    "name": "ipython",
    "version": 3
   },
   "file_extension": ".py",
   "mimetype": "text/x-python",
   "name": "python",
   "nbconvert_exporter": "python",
   "pygments_lexer": "ipython3",
   "version": "3.10.4"
  }
 },
 "nbformat": 4,
 "nbformat_minor": 5
}
