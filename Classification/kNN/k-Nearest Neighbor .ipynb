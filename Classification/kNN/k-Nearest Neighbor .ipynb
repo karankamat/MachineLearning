{
 "cells": [
  {
   "cell_type": "code",
   "execution_count": 1,
   "metadata": {},
   "outputs": [],
   "source": [
    "# Importing libraries\n",
    "import numpy as np\n",
    "import pandas as pd\n",
    "import matplotlib.pyplot as plt"
   ]
  },
  {
   "cell_type": "code",
   "execution_count": 2,
   "metadata": {},
   "outputs": [],
   "source": [
    "defaulter_db = pd.read_csv('defaulter.csv')"
   ]
  },
  {
   "cell_type": "code",
   "execution_count": 3,
   "metadata": {},
   "outputs": [
    {
     "name": "stdout",
     "output_type": "stream",
     "text": [
      "<class 'pandas.core.frame.DataFrame'>\n",
      "RangeIndex: 11 entries, 0 to 10\n",
      "Data columns (total 4 columns):\n",
      "defaulter    11 non-null object\n",
      "student      11 non-null object\n",
      "balance      11 non-null float64\n",
      "income       11 non-null float64\n",
      "dtypes: float64(2), object(2)\n",
      "memory usage: 432.0+ bytes\n"
     ]
    }
   ],
   "source": [
    "defaulter_db.info()"
   ]
  },
  {
   "cell_type": "code",
   "execution_count": 4,
   "metadata": {},
   "outputs": [
    {
     "data": {
      "text/html": [
       "<div>\n",
       "<style scoped>\n",
       "    .dataframe tbody tr th:only-of-type {\n",
       "        vertical-align: middle;\n",
       "    }\n",
       "\n",
       "    .dataframe tbody tr th {\n",
       "        vertical-align: top;\n",
       "    }\n",
       "\n",
       "    .dataframe thead th {\n",
       "        text-align: right;\n",
       "    }\n",
       "</style>\n",
       "<table border=\"1\" class=\"dataframe\">\n",
       "  <thead>\n",
       "    <tr style=\"text-align: right;\">\n",
       "      <th></th>\n",
       "      <th>balance</th>\n",
       "      <th>income</th>\n",
       "    </tr>\n",
       "  </thead>\n",
       "  <tbody>\n",
       "    <tr>\n",
       "      <th>count</th>\n",
       "      <td>11.000000</td>\n",
       "      <td>11.000000</td>\n",
       "    </tr>\n",
       "    <tr>\n",
       "      <th>mean</th>\n",
       "      <td>1048.456273</td>\n",
       "      <td>15982.946364</td>\n",
       "    </tr>\n",
       "    <tr>\n",
       "      <th>std</th>\n",
       "      <td>248.399967</td>\n",
       "      <td>2372.782997</td>\n",
       "    </tr>\n",
       "    <tr>\n",
       "      <th>min</th>\n",
       "      <td>673.812400</td>\n",
       "      <td>12106.140000</td>\n",
       "    </tr>\n",
       "    <tr>\n",
       "      <th>25%</th>\n",
       "      <td>875.019700</td>\n",
       "      <td>14261.430000</td>\n",
       "    </tr>\n",
       "    <tr>\n",
       "      <th>50%</th>\n",
       "      <td>1000.000000</td>\n",
       "      <td>16900.000000</td>\n",
       "    </tr>\n",
       "    <tr>\n",
       "      <th>75%</th>\n",
       "      <td>1255.065500</td>\n",
       "      <td>17678.870000</td>\n",
       "    </tr>\n",
       "    <tr>\n",
       "      <th>max</th>\n",
       "      <td>1486.998000</td>\n",
       "      <td>19282.440000</td>\n",
       "    </tr>\n",
       "  </tbody>\n",
       "</table>\n",
       "</div>"
      ],
      "text/plain": [
       "           balance        income\n",
       "count    11.000000     11.000000\n",
       "mean   1048.456273  15982.946364\n",
       "std     248.399967   2372.782997\n",
       "min     673.812400  12106.140000\n",
       "25%     875.019700  14261.430000\n",
       "50%    1000.000000  16900.000000\n",
       "75%    1255.065500  17678.870000\n",
       "max    1486.998000  19282.440000"
      ]
     },
     "execution_count": 4,
     "metadata": {},
     "output_type": "execute_result"
    }
   ],
   "source": [
    "defaulter_db.describe()"
   ]
  },
  {
   "cell_type": "code",
   "execution_count": 5,
   "metadata": {},
   "outputs": [
    {
     "data": {
      "text/html": [
       "<div>\n",
       "<style scoped>\n",
       "    .dataframe tbody tr th:only-of-type {\n",
       "        vertical-align: middle;\n",
       "    }\n",
       "\n",
       "    .dataframe tbody tr th {\n",
       "        vertical-align: top;\n",
       "    }\n",
       "\n",
       "    .dataframe thead th {\n",
       "        text-align: right;\n",
       "    }\n",
       "</style>\n",
       "<table border=\"1\" class=\"dataframe\">\n",
       "  <thead>\n",
       "    <tr style=\"text-align: right;\">\n",
       "      <th></th>\n",
       "      <th>defaulter</th>\n",
       "      <th>student</th>\n",
       "      <th>balance</th>\n",
       "      <th>income</th>\n",
       "    </tr>\n",
       "  </thead>\n",
       "  <tbody>\n",
       "    <tr>\n",
       "      <th>0</th>\n",
       "      <td>No</td>\n",
       "      <td>Yes</td>\n",
       "      <td>817.1804</td>\n",
       "      <td>12106.14</td>\n",
       "    </tr>\n",
       "    <tr>\n",
       "      <th>1</th>\n",
       "      <td>Yes</td>\n",
       "      <td>Yes</td>\n",
       "      <td>1486.9980</td>\n",
       "      <td>17854.40</td>\n",
       "    </tr>\n",
       "    <tr>\n",
       "      <th>2</th>\n",
       "      <td>Yes</td>\n",
       "      <td>Yes</td>\n",
       "      <td>1102.4350</td>\n",
       "      <td>17391.78</td>\n",
       "    </tr>\n",
       "    <tr>\n",
       "      <th>3</th>\n",
       "      <td>Yes</td>\n",
       "      <td>Yes</td>\n",
       "      <td>1233.4460</td>\n",
       "      <td>12586.48</td>\n",
       "    </tr>\n",
       "    <tr>\n",
       "      <th>4</th>\n",
       "      <td>Yes</td>\n",
       "      <td>Yes</td>\n",
       "      <td>1276.6850</td>\n",
       "      <td>19282.44</td>\n",
       "    </tr>\n",
       "    <tr>\n",
       "      <th>5</th>\n",
       "      <td>Yes</td>\n",
       "      <td>Yes</td>\n",
       "      <td>1289.2460</td>\n",
       "      <td>13624.55</td>\n",
       "    </tr>\n",
       "    <tr>\n",
       "      <th>6</th>\n",
       "      <td>No</td>\n",
       "      <td>Yes</td>\n",
       "      <td>673.8124</td>\n",
       "      <td>17672.29</td>\n",
       "    </tr>\n",
       "    <tr>\n",
       "      <th>7</th>\n",
       "      <td>No</td>\n",
       "      <td>No</td>\n",
       "      <td>870.4124</td>\n",
       "      <td>17685.45</td>\n",
       "    </tr>\n",
       "    <tr>\n",
       "      <th>8</th>\n",
       "      <td>No</td>\n",
       "      <td>Yes</td>\n",
       "      <td>903.1768</td>\n",
       "      <td>15810.57</td>\n",
       "    </tr>\n",
       "    <tr>\n",
       "      <th>9</th>\n",
       "      <td>No</td>\n",
       "      <td>Yes</td>\n",
       "      <td>879.6270</td>\n",
       "      <td>14898.31</td>\n",
       "    </tr>\n",
       "  </tbody>\n",
       "</table>\n",
       "</div>"
      ],
      "text/plain": [
       "  defaulter student    balance    income\n",
       "0        No     Yes   817.1804  12106.14\n",
       "1       Yes     Yes  1486.9980  17854.40\n",
       "2       Yes     Yes  1102.4350  17391.78\n",
       "3       Yes     Yes  1233.4460  12586.48\n",
       "4       Yes     Yes  1276.6850  19282.44\n",
       "5       Yes     Yes  1289.2460  13624.55\n",
       "6        No     Yes   673.8124  17672.29\n",
       "7        No      No   870.4124  17685.45\n",
       "8        No     Yes   903.1768  15810.57\n",
       "9        No     Yes   879.6270  14898.31"
      ]
     },
     "execution_count": 5,
     "metadata": {},
     "output_type": "execute_result"
    }
   ],
   "source": [
    "defaulter_db.head(10)"
   ]
  },
  {
   "cell_type": "code",
   "execution_count": 6,
   "metadata": {},
   "outputs": [
    {
     "data": {
      "text/plain": [
       "<seaborn.axisgrid.PairGrid at 0x228c7769128>"
      ]
     },
     "execution_count": 6,
     "metadata": {},
     "output_type": "execute_result"
    },
    {
     "data": {
      "image/png": "[encoded data removed]",
      "text/plain": [
       "<Figure size 261.375x180 with 1 Axes>"
      ]
     },
     "metadata": {},
     "output_type": "display_data"
    }
   ],
   "source": [
    "import seaborn as sns\n",
    "sns.pairplot(defaulter_db,hue=\"defaulter\",\n",
    "             x_vars=\"income\",y_vars=\"balance\")"
   ]
  },
  {
   "cell_type": "markdown",
   "metadata": {},
   "source": [
    "# Finding the distance between two points"
   ]
  },
  {
   "cell_type": "code",
   "execution_count": 7,
   "metadata": {},
   "outputs": [],
   "source": [
    "x1 = defaulter_db.loc[0,['balance', 'income']]"
   ]
  },
  {
   "cell_type": "code",
   "execution_count": 8,
   "metadata": {},
   "outputs": [],
   "source": [
    "x2 = defaulter_db.loc[1,['balance', 'income']]"
   ]
  },
  {
   "cell_type": "code",
   "execution_count": 9,
   "metadata": {},
   "outputs": [
    {
     "data": {
      "text/plain": [
       "5787.1537602581275"
      ]
     },
     "execution_count": 9,
     "metadata": {},
     "output_type": "execute_result"
    }
   ],
   "source": [
    "# Euclidean distance\n",
    "np.linalg.norm(x1-x2)"
   ]
  },
  {
   "cell_type": "markdown",
   "metadata": {},
   "source": [
    "# Normalizing the data"
   ]
  },
  {
   "cell_type": "code",
   "execution_count": 10,
   "metadata": {},
   "outputs": [],
   "source": [
    "from sklearn.preprocessing import MinMaxScaler, StandardScaler\n",
    "scaler = MinMaxScaler()"
   ]
  },
  {
   "cell_type": "code",
   "execution_count": 11,
   "metadata": {},
   "outputs": [],
   "source": [
    "norm_value = scaler.fit_transform(defaulter_db[['balance', 'income']])"
   ]
  },
  {
   "cell_type": "code",
   "execution_count": 12,
   "metadata": {},
   "outputs": [],
   "source": [
    "defaulter_db['norm_balance'] = norm_value[:,0]\n",
    "defaulter_db['norm_income'] = norm_value[:,1]"
   ]
  },
  {
   "cell_type": "code",
   "execution_count": 13,
   "metadata": {},
   "outputs": [
    {
     "data": {
      "text/html": [
       "<div>\n",
       "<style scoped>\n",
       "    .dataframe tbody tr th:only-of-type {\n",
       "        vertical-align: middle;\n",
       "    }\n",
       "\n",
       "    .dataframe tbody tr th {\n",
       "        vertical-align: top;\n",
       "    }\n",
       "\n",
       "    .dataframe thead th {\n",
       "        text-align: right;\n",
       "    }\n",
       "</style>\n",
       "<table border=\"1\" class=\"dataframe\">\n",
       "  <thead>\n",
       "    <tr style=\"text-align: right;\">\n",
       "      <th></th>\n",
       "      <th>defaulter</th>\n",
       "      <th>student</th>\n",
       "      <th>balance</th>\n",
       "      <th>income</th>\n",
       "      <th>norm_balance</th>\n",
       "      <th>norm_income</th>\n",
       "    </tr>\n",
       "  </thead>\n",
       "  <tbody>\n",
       "    <tr>\n",
       "      <th>0</th>\n",
       "      <td>No</td>\n",
       "      <td>Yes</td>\n",
       "      <td>817.1804</td>\n",
       "      <td>12106.14</td>\n",
       "      <td>0.176304</td>\n",
       "      <td>0.000000</td>\n",
       "    </tr>\n",
       "    <tr>\n",
       "      <th>1</th>\n",
       "      <td>Yes</td>\n",
       "      <td>Yes</td>\n",
       "      <td>1486.9980</td>\n",
       "      <td>17854.40</td>\n",
       "      <td>1.000000</td>\n",
       "      <td>0.801006</td>\n",
       "    </tr>\n",
       "    <tr>\n",
       "      <th>2</th>\n",
       "      <td>Yes</td>\n",
       "      <td>Yes</td>\n",
       "      <td>1102.4350</td>\n",
       "      <td>17391.78</td>\n",
       "      <td>0.527091</td>\n",
       "      <td>0.736541</td>\n",
       "    </tr>\n",
       "    <tr>\n",
       "      <th>3</th>\n",
       "      <td>Yes</td>\n",
       "      <td>Yes</td>\n",
       "      <td>1233.4460</td>\n",
       "      <td>12586.48</td>\n",
       "      <td>0.688199</td>\n",
       "      <td>0.066934</td>\n",
       "    </tr>\n",
       "    <tr>\n",
       "      <th>4</th>\n",
       "      <td>Yes</td>\n",
       "      <td>Yes</td>\n",
       "      <td>1276.6850</td>\n",
       "      <td>19282.44</td>\n",
       "      <td>0.741371</td>\n",
       "      <td>1.000000</td>\n",
       "    </tr>\n",
       "    <tr>\n",
       "      <th>5</th>\n",
       "      <td>Yes</td>\n",
       "      <td>Yes</td>\n",
       "      <td>1289.2460</td>\n",
       "      <td>13624.55</td>\n",
       "      <td>0.756818</td>\n",
       "      <td>0.211587</td>\n",
       "    </tr>\n",
       "    <tr>\n",
       "      <th>6</th>\n",
       "      <td>No</td>\n",
       "      <td>Yes</td>\n",
       "      <td>673.8124</td>\n",
       "      <td>17672.29</td>\n",
       "      <td>0.000000</td>\n",
       "      <td>0.775630</td>\n",
       "    </tr>\n",
       "    <tr>\n",
       "      <th>7</th>\n",
       "      <td>No</td>\n",
       "      <td>No</td>\n",
       "      <td>870.4124</td>\n",
       "      <td>17685.45</td>\n",
       "      <td>0.241765</td>\n",
       "      <td>0.777463</td>\n",
       "    </tr>\n",
       "    <tr>\n",
       "      <th>8</th>\n",
       "      <td>No</td>\n",
       "      <td>Yes</td>\n",
       "      <td>903.1768</td>\n",
       "      <td>15810.57</td>\n",
       "      <td>0.282057</td>\n",
       "      <td>0.516203</td>\n",
       "    </tr>\n",
       "    <tr>\n",
       "      <th>9</th>\n",
       "      <td>No</td>\n",
       "      <td>Yes</td>\n",
       "      <td>879.6270</td>\n",
       "      <td>14898.31</td>\n",
       "      <td>0.253097</td>\n",
       "      <td>0.389082</td>\n",
       "    </tr>\n",
       "    <tr>\n",
       "      <th>10</th>\n",
       "      <td>unknown</td>\n",
       "      <td>Yes</td>\n",
       "      <td>1000.0000</td>\n",
       "      <td>16900.00</td>\n",
       "      <td>0.401123</td>\n",
       "      <td>0.668013</td>\n",
       "    </tr>\n",
       "  </tbody>\n",
       "</table>\n",
       "</div>"
      ],
      "text/plain": [
       "   defaulter student    balance    income  norm_balance  norm_income\n",
       "0         No     Yes   817.1804  12106.14      0.176304     0.000000\n",
       "1        Yes     Yes  1486.9980  17854.40      1.000000     0.801006\n",
       "2        Yes     Yes  1102.4350  17391.78      0.527091     0.736541\n",
       "3        Yes     Yes  1233.4460  12586.48      0.688199     0.066934\n",
       "4        Yes     Yes  1276.6850  19282.44      0.741371     1.000000\n",
       "5        Yes     Yes  1289.2460  13624.55      0.756818     0.211587\n",
       "6         No     Yes   673.8124  17672.29      0.000000     0.775630\n",
       "7         No      No   870.4124  17685.45      0.241765     0.777463\n",
       "8         No     Yes   903.1768  15810.57      0.282057     0.516203\n",
       "9         No     Yes   879.6270  14898.31      0.253097     0.389082\n",
       "10   unknown     Yes  1000.0000  16900.00      0.401123     0.668013"
      ]
     },
     "execution_count": 13,
     "metadata": {},
     "output_type": "execute_result"
    }
   ],
   "source": [
    "defaulter_db"
   ]
  },
  {
   "cell_type": "code",
   "execution_count": 14,
   "metadata": {},
   "outputs": [],
   "source": [
    "scaler2 = StandardScaler().fit(defaulter_db[['balance', 'income']])"
   ]
  },
  {
   "cell_type": "code",
   "execution_count": 15,
   "metadata": {},
   "outputs": [],
   "source": [
    "norm_value2 = scaler2.transform(defaulter_db[['balance', 'income']])"
   ]
  },
  {
   "cell_type": "code",
   "execution_count": null,
   "metadata": {},
   "outputs": [],
   "source": []
  },
  {
   "cell_type": "code",
   "execution_count": 16,
   "metadata": {},
   "outputs": [],
   "source": [
    "defaulter_db['norm_balance2'] = norm_value2[:,0]\n",
    "defaulter_db['norm_income2'] = norm_value2[:,1]"
   ]
  },
  {
   "cell_type": "code",
   "execution_count": 17,
   "metadata": {},
   "outputs": [
    {
     "data": {
      "text/html": [
       "<div>\n",
       "<style scoped>\n",
       "    .dataframe tbody tr th:only-of-type {\n",
       "        vertical-align: middle;\n",
       "    }\n",
       "\n",
       "    .dataframe tbody tr th {\n",
       "        vertical-align: top;\n",
       "    }\n",
       "\n",
       "    .dataframe thead th {\n",
       "        text-align: right;\n",
       "    }\n",
       "</style>\n",
       "<table border=\"1\" class=\"dataframe\">\n",
       "  <thead>\n",
       "    <tr style=\"text-align: right;\">\n",
       "      <th></th>\n",
       "      <th>defaulter</th>\n",
       "      <th>student</th>\n",
       "      <th>balance</th>\n",
       "      <th>income</th>\n",
       "      <th>norm_balance</th>\n",
       "      <th>norm_income</th>\n",
       "      <th>norm_balance2</th>\n",
       "      <th>norm_income2</th>\n",
       "    </tr>\n",
       "  </thead>\n",
       "  <tbody>\n",
       "    <tr>\n",
       "      <th>0</th>\n",
       "      <td>No</td>\n",
       "      <td>Yes</td>\n",
       "      <td>817.1804</td>\n",
       "      <td>12106.14</td>\n",
       "      <td>0.176304</td>\n",
       "      <td>0.000000</td>\n",
       "      <td>-0.976506</td>\n",
       "      <td>-1.713612</td>\n",
       "    </tr>\n",
       "    <tr>\n",
       "      <th>1</th>\n",
       "      <td>Yes</td>\n",
       "      <td>Yes</td>\n",
       "      <td>1486.9980</td>\n",
       "      <td>17854.40</td>\n",
       "      <td>1.000000</td>\n",
       "      <td>0.801006</td>\n",
       "      <td>1.851636</td>\n",
       "      <td>0.827213</td>\n",
       "    </tr>\n",
       "    <tr>\n",
       "      <th>2</th>\n",
       "      <td>Yes</td>\n",
       "      <td>Yes</td>\n",
       "      <td>1102.4350</td>\n",
       "      <td>17391.78</td>\n",
       "      <td>0.527091</td>\n",
       "      <td>0.736541</td>\n",
       "      <td>0.227912</td>\n",
       "      <td>0.622727</td>\n",
       "    </tr>\n",
       "    <tr>\n",
       "      <th>3</th>\n",
       "      <td>Yes</td>\n",
       "      <td>Yes</td>\n",
       "      <td>1233.4460</td>\n",
       "      <td>12586.48</td>\n",
       "      <td>0.688199</td>\n",
       "      <td>0.066934</td>\n",
       "      <td>0.781074</td>\n",
       "      <td>-1.501294</td>\n",
       "    </tr>\n",
       "    <tr>\n",
       "      <th>4</th>\n",
       "      <td>Yes</td>\n",
       "      <td>Yes</td>\n",
       "      <td>1276.6850</td>\n",
       "      <td>19282.44</td>\n",
       "      <td>0.741371</td>\n",
       "      <td>1.000000</td>\n",
       "      <td>0.963641</td>\n",
       "      <td>1.458430</td>\n",
       "    </tr>\n",
       "    <tr>\n",
       "      <th>5</th>\n",
       "      <td>Yes</td>\n",
       "      <td>Yes</td>\n",
       "      <td>1289.2460</td>\n",
       "      <td>13624.55</td>\n",
       "      <td>0.756818</td>\n",
       "      <td>0.211587</td>\n",
       "      <td>1.016676</td>\n",
       "      <td>-1.042450</td>\n",
       "    </tr>\n",
       "    <tr>\n",
       "      <th>6</th>\n",
       "      <td>No</td>\n",
       "      <td>Yes</td>\n",
       "      <td>673.8124</td>\n",
       "      <td>17672.29</td>\n",
       "      <td>0.000000</td>\n",
       "      <td>0.775630</td>\n",
       "      <td>-1.581843</td>\n",
       "      <td>0.746717</td>\n",
       "    </tr>\n",
       "    <tr>\n",
       "      <th>7</th>\n",
       "      <td>No</td>\n",
       "      <td>No</td>\n",
       "      <td>870.4124</td>\n",
       "      <td>17685.45</td>\n",
       "      <td>0.241765</td>\n",
       "      <td>0.777463</td>\n",
       "      <td>-0.751747</td>\n",
       "      <td>0.752534</td>\n",
       "    </tr>\n",
       "    <tr>\n",
       "      <th>8</th>\n",
       "      <td>No</td>\n",
       "      <td>Yes</td>\n",
       "      <td>903.1768</td>\n",
       "      <td>15810.57</td>\n",
       "      <td>0.282057</td>\n",
       "      <td>0.516203</td>\n",
       "      <td>-0.613407</td>\n",
       "      <td>-0.076193</td>\n",
       "    </tr>\n",
       "    <tr>\n",
       "      <th>9</th>\n",
       "      <td>No</td>\n",
       "      <td>Yes</td>\n",
       "      <td>879.6270</td>\n",
       "      <td>14898.31</td>\n",
       "      <td>0.253097</td>\n",
       "      <td>0.389082</td>\n",
       "      <td>-0.712841</td>\n",
       "      <td>-0.479427</td>\n",
       "    </tr>\n",
       "    <tr>\n",
       "      <th>10</th>\n",
       "      <td>unknown</td>\n",
       "      <td>Yes</td>\n",
       "      <td>1000.0000</td>\n",
       "      <td>16900.00</td>\n",
       "      <td>0.401123</td>\n",
       "      <td>0.668013</td>\n",
       "      <td>-0.204595</td>\n",
       "      <td>0.405353</td>\n",
       "    </tr>\n",
       "  </tbody>\n",
       "</table>\n",
       "</div>"
      ],
      "text/plain": [
       "   defaulter student    balance    income  norm_balance  norm_income  \\\n",
       "0         No     Yes   817.1804  12106.14      0.176304     0.000000   \n",
       "1        Yes     Yes  1486.9980  17854.40      1.000000     0.801006   \n",
       "2        Yes     Yes  1102.4350  17391.78      0.527091     0.736541   \n",
       "3        Yes     Yes  1233.4460  12586.48      0.688199     0.066934   \n",
       "4        Yes     Yes  1276.6850  19282.44      0.741371     1.000000   \n",
       "5        Yes     Yes  1289.2460  13624.55      0.756818     0.211587   \n",
       "6         No     Yes   673.8124  17672.29      0.000000     0.775630   \n",
       "7         No      No   870.4124  17685.45      0.241765     0.777463   \n",
       "8         No     Yes   903.1768  15810.57      0.282057     0.516203   \n",
       "9         No     Yes   879.6270  14898.31      0.253097     0.389082   \n",
       "10   unknown     Yes  1000.0000  16900.00      0.401123     0.668013   \n",
       "\n",
       "    norm_balance2  norm_income2  \n",
       "0       -0.976506     -1.713612  \n",
       "1        1.851636      0.827213  \n",
       "2        0.227912      0.622727  \n",
       "3        0.781074     -1.501294  \n",
       "4        0.963641      1.458430  \n",
       "5        1.016676     -1.042450  \n",
       "6       -1.581843      0.746717  \n",
       "7       -0.751747      0.752534  \n",
       "8       -0.613407     -0.076193  \n",
       "9       -0.712841     -0.479427  \n",
       "10      -0.204595      0.405353  "
      ]
     },
     "execution_count": 17,
     "metadata": {},
     "output_type": "execute_result"
    }
   ],
   "source": [
    "defaulter_db"
   ]
  },
  {
   "cell_type": "code",
   "execution_count": 18,
   "metadata": {},
   "outputs": [],
   "source": [
    "x1 = defaulter_db.loc[0,['norm_balance', 'norm_income']]"
   ]
  },
  {
   "cell_type": "code",
   "execution_count": 19,
   "metadata": {},
   "outputs": [],
   "source": [
    "x2 = defaulter_db.loc[1,['norm_balance', 'norm_income']]"
   ]
  },
  {
   "cell_type": "code",
   "execution_count": 20,
   "metadata": {},
   "outputs": [
    {
     "data": {
      "text/plain": [
       "1.1489497815843785"
      ]
     },
     "execution_count": 20,
     "metadata": {},
     "output_type": "execute_result"
    }
   ],
   "source": [
    "np.linalg.norm(x1-x2)"
   ]
  },
  {
   "cell_type": "code",
   "execution_count": 21,
   "metadata": {},
   "outputs": [],
   "source": [
    "x1 = defaulter_db.loc[0,['norm_balance2', 'norm_income2']]"
   ]
  },
  {
   "cell_type": "code",
   "execution_count": 22,
   "metadata": {},
   "outputs": [],
   "source": [
    "x2 = defaulter_db.loc[1,['norm_balance2', 'norm_income2']]"
   ]
  },
  {
   "cell_type": "code",
   "execution_count": 23,
   "metadata": {},
   "outputs": [
    {
     "data": {
      "text/plain": [
       "3.8018658066128808"
      ]
     },
     "execution_count": 23,
     "metadata": {},
     "output_type": "execute_result"
    }
   ],
   "source": [
    "np.linalg.norm(x1-x2)"
   ]
  },
  {
   "cell_type": "markdown",
   "metadata": {},
   "source": [
    "# Predicting based on kNN"
   ]
  },
  {
   "cell_type": "code",
   "execution_count": 24,
   "metadata": {},
   "outputs": [],
   "source": [
    "x11 = defaulter_db.loc[10,['norm_balance', 'norm_income']]"
   ]
  },
  {
   "cell_type": "code",
   "execution_count": 25,
   "metadata": {},
   "outputs": [
    {
     "data": {
      "text/plain": [
       "norm_balance    0.401123\n",
       "norm_income     0.668013\n",
       "Name: 10, dtype: object"
      ]
     },
     "execution_count": 25,
     "metadata": {},
     "output_type": "execute_result"
    }
   ],
   "source": [
    "x11"
   ]
  },
  {
   "cell_type": "code",
   "execution_count": 26,
   "metadata": {},
   "outputs": [],
   "source": [
    "dist_to_x11 = lambda x: np.linalg.norm(x-x11)"
   ]
  },
  {
   "cell_type": "code",
   "execution_count": 28,
   "metadata": {},
   "outputs": [],
   "source": [
    "defaulter_db[\"dist_toX11\"] = defaulter_db[[\"norm_balance\",\n",
    "                                               \"norm_income\"]].apply(dist_to_x11,axis=1)"
   ]
  },
  {
   "cell_type": "code",
   "execution_count": 29,
   "metadata": {},
   "outputs": [
    {
     "data": {
      "text/html": [
       "<div>\n",
       "<style scoped>\n",
       "    .dataframe tbody tr th:only-of-type {\n",
       "        vertical-align: middle;\n",
       "    }\n",
       "\n",
       "    .dataframe tbody tr th {\n",
       "        vertical-align: top;\n",
       "    }\n",
       "\n",
       "    .dataframe thead th {\n",
       "        text-align: right;\n",
       "    }\n",
       "</style>\n",
       "<table border=\"1\" class=\"dataframe\">\n",
       "  <thead>\n",
       "    <tr style=\"text-align: right;\">\n",
       "      <th></th>\n",
       "      <th>defaulter</th>\n",
       "      <th>student</th>\n",
       "      <th>balance</th>\n",
       "      <th>income</th>\n",
       "      <th>norm_balance</th>\n",
       "      <th>norm_income</th>\n",
       "      <th>norm_balance2</th>\n",
       "      <th>norm_income2</th>\n",
       "      <th>dist_toX11</th>\n",
       "    </tr>\n",
       "  </thead>\n",
       "  <tbody>\n",
       "    <tr>\n",
       "      <th>0</th>\n",
       "      <td>No</td>\n",
       "      <td>Yes</td>\n",
       "      <td>817.1804</td>\n",
       "      <td>12106.14</td>\n",
       "      <td>0.176304</td>\n",
       "      <td>0.000000</td>\n",
       "      <td>-0.976506</td>\n",
       "      <td>-1.713612</td>\n",
       "      <td>0.704830</td>\n",
       "    </tr>\n",
       "    <tr>\n",
       "      <th>1</th>\n",
       "      <td>Yes</td>\n",
       "      <td>Yes</td>\n",
       "      <td>1486.9980</td>\n",
       "      <td>17854.40</td>\n",
       "      <td>1.000000</td>\n",
       "      <td>0.801006</td>\n",
       "      <td>1.851636</td>\n",
       "      <td>0.827213</td>\n",
       "      <td>0.613466</td>\n",
       "    </tr>\n",
       "    <tr>\n",
       "      <th>2</th>\n",
       "      <td>Yes</td>\n",
       "      <td>Yes</td>\n",
       "      <td>1102.4350</td>\n",
       "      <td>17391.78</td>\n",
       "      <td>0.527091</td>\n",
       "      <td>0.736541</td>\n",
       "      <td>0.227912</td>\n",
       "      <td>0.622727</td>\n",
       "      <td>0.143401</td>\n",
       "    </tr>\n",
       "    <tr>\n",
       "      <th>3</th>\n",
       "      <td>Yes</td>\n",
       "      <td>Yes</td>\n",
       "      <td>1233.4460</td>\n",
       "      <td>12586.48</td>\n",
       "      <td>0.688199</td>\n",
       "      <td>0.066934</td>\n",
       "      <td>0.781074</td>\n",
       "      <td>-1.501294</td>\n",
       "      <td>0.666114</td>\n",
       "    </tr>\n",
       "    <tr>\n",
       "      <th>4</th>\n",
       "      <td>Yes</td>\n",
       "      <td>Yes</td>\n",
       "      <td>1276.6850</td>\n",
       "      <td>19282.44</td>\n",
       "      <td>0.741371</td>\n",
       "      <td>1.000000</td>\n",
       "      <td>0.963641</td>\n",
       "      <td>1.458430</td>\n",
       "      <td>0.475378</td>\n",
       "    </tr>\n",
       "    <tr>\n",
       "      <th>5</th>\n",
       "      <td>Yes</td>\n",
       "      <td>Yes</td>\n",
       "      <td>1289.2460</td>\n",
       "      <td>13624.55</td>\n",
       "      <td>0.756818</td>\n",
       "      <td>0.211587</td>\n",
       "      <td>1.016676</td>\n",
       "      <td>-1.042450</td>\n",
       "      <td>0.578657</td>\n",
       "    </tr>\n",
       "    <tr>\n",
       "      <th>6</th>\n",
       "      <td>No</td>\n",
       "      <td>Yes</td>\n",
       "      <td>673.8124</td>\n",
       "      <td>17672.29</td>\n",
       "      <td>0.000000</td>\n",
       "      <td>0.775630</td>\n",
       "      <td>-1.581843</td>\n",
       "      <td>0.746717</td>\n",
       "      <td>0.415309</td>\n",
       "    </tr>\n",
       "    <tr>\n",
       "      <th>7</th>\n",
       "      <td>No</td>\n",
       "      <td>No</td>\n",
       "      <td>870.4124</td>\n",
       "      <td>17685.45</td>\n",
       "      <td>0.241765</td>\n",
       "      <td>0.777463</td>\n",
       "      <td>-0.751747</td>\n",
       "      <td>0.752534</td>\n",
       "      <td>0.193325</td>\n",
       "    </tr>\n",
       "    <tr>\n",
       "      <th>8</th>\n",
       "      <td>No</td>\n",
       "      <td>Yes</td>\n",
       "      <td>903.1768</td>\n",
       "      <td>15810.57</td>\n",
       "      <td>0.282057</td>\n",
       "      <td>0.516203</td>\n",
       "      <td>-0.613407</td>\n",
       "      <td>-0.076193</td>\n",
       "      <td>0.192932</td>\n",
       "    </tr>\n",
       "    <tr>\n",
       "      <th>9</th>\n",
       "      <td>No</td>\n",
       "      <td>Yes</td>\n",
       "      <td>879.6270</td>\n",
       "      <td>14898.31</td>\n",
       "      <td>0.253097</td>\n",
       "      <td>0.389082</td>\n",
       "      <td>-0.712841</td>\n",
       "      <td>-0.479427</td>\n",
       "      <td>0.315775</td>\n",
       "    </tr>\n",
       "    <tr>\n",
       "      <th>10</th>\n",
       "      <td>unknown</td>\n",
       "      <td>Yes</td>\n",
       "      <td>1000.0000</td>\n",
       "      <td>16900.00</td>\n",
       "      <td>0.401123</td>\n",
       "      <td>0.668013</td>\n",
       "      <td>-0.204595</td>\n",
       "      <td>0.405353</td>\n",
       "      <td>0.000000</td>\n",
       "    </tr>\n",
       "  </tbody>\n",
       "</table>\n",
       "</div>"
      ],
      "text/plain": [
       "   defaulter student    balance    income  norm_balance  norm_income  \\\n",
       "0         No     Yes   817.1804  12106.14      0.176304     0.000000   \n",
       "1        Yes     Yes  1486.9980  17854.40      1.000000     0.801006   \n",
       "2        Yes     Yes  1102.4350  17391.78      0.527091     0.736541   \n",
       "3        Yes     Yes  1233.4460  12586.48      0.688199     0.066934   \n",
       "4        Yes     Yes  1276.6850  19282.44      0.741371     1.000000   \n",
       "5        Yes     Yes  1289.2460  13624.55      0.756818     0.211587   \n",
       "6         No     Yes   673.8124  17672.29      0.000000     0.775630   \n",
       "7         No      No   870.4124  17685.45      0.241765     0.777463   \n",
       "8         No     Yes   903.1768  15810.57      0.282057     0.516203   \n",
       "9         No     Yes   879.6270  14898.31      0.253097     0.389082   \n",
       "10   unknown     Yes  1000.0000  16900.00      0.401123     0.668013   \n",
       "\n",
       "    norm_balance2  norm_income2  dist_toX11  \n",
       "0       -0.976506     -1.713612    0.704830  \n",
       "1        1.851636      0.827213    0.613466  \n",
       "2        0.227912      0.622727    0.143401  \n",
       "3        0.781074     -1.501294    0.666114  \n",
       "4        0.963641      1.458430    0.475378  \n",
       "5        1.016676     -1.042450    0.578657  \n",
       "6       -1.581843      0.746717    0.415309  \n",
       "7       -0.751747      0.752534    0.193325  \n",
       "8       -0.613407     -0.076193    0.192932  \n",
       "9       -0.712841     -0.479427    0.315775  \n",
       "10      -0.204595      0.405353    0.000000  "
      ]
     },
     "execution_count": 29,
     "metadata": {},
     "output_type": "execute_result"
    }
   ],
   "source": [
    "defaulter_db"
   ]
  },
  {
   "cell_type": "code",
   "execution_count": 30,
   "metadata": {},
   "outputs": [],
   "source": [
    "# Feature variables\n",
    "X = defaulter_db[['norm_balance', 'norm_income']]"
   ]
  },
  {
   "cell_type": "code",
   "execution_count": 31,
   "metadata": {},
   "outputs": [],
   "source": [
    "# Target variables\n",
    "y = defaulter_db['defaulter']"
   ]
  },
  {
   "cell_type": "code",
   "execution_count": 108,
   "metadata": {},
   "outputs": [],
   "source": [
    "from sklearn.model_selection import train_test_split\n",
    "X_train, X_test,y_train, y_test = train_test_split(X, y, test_size=0.30,random_state=100)"
   ]
  },
  {
   "cell_type": "markdown",
   "metadata": {},
   "source": [
    "# Model"
   ]
  },
  {
   "cell_type": "code",
   "execution_count": 109,
   "metadata": {},
   "outputs": [],
   "source": [
    "from sklearn.neighbors import KNeighborsClassifier\n",
    "model = KNeighborsClassifier(n_neighbors=6, metric='euclidean')"
   ]
  },
  {
   "cell_type": "code",
   "execution_count": 110,
   "metadata": {},
   "outputs": [
    {
     "data": {
      "text/plain": [
       "KNeighborsClassifier(algorithm='auto', leaf_size=30, metric='euclidean',\n",
       "           metric_params=None, n_jobs=1, n_neighbors=6, p=2,\n",
       "           weights='uniform')"
      ]
     },
     "execution_count": 110,
     "metadata": {},
     "output_type": "execute_result"
    }
   ],
   "source": [
    "model.fit(X_train, y_train)"
   ]
  },
  {
   "cell_type": "code",
   "execution_count": 111,
   "metadata": {},
   "outputs": [
    {
     "data": {
      "text/plain": [
       "0.7142857142857143"
      ]
     },
     "execution_count": 111,
     "metadata": {},
     "output_type": "execute_result"
    }
   ],
   "source": [
    "# Accuracy\n",
    "model.score(X_train, y_train)"
   ]
  },
  {
   "cell_type": "code",
   "execution_count": 112,
   "metadata": {},
   "outputs": [
    {
     "data": {
      "text/plain": [
       "0.75"
      ]
     },
     "execution_count": 112,
     "metadata": {},
     "output_type": "execute_result"
    }
   ],
   "source": [
    "# Test accuracy\n",
    "model.score(X_test, y_test)"
   ]
  },
  {
   "cell_type": "markdown",
   "metadata": {},
   "source": [
    "# Tunning the hyperparameter k/n_neighnors"
   ]
  },
  {
   "cell_type": "code",
   "execution_count": 115,
   "metadata": {},
   "outputs": [
    {
     "data": {
      "text/plain": [
       "[<matplotlib.lines.Line2D at 0x228ca9a2080>]"
      ]
     },
     "execution_count": 115,
     "metadata": {},
     "output_type": "execute_result"
    },
    {
     "data": {
      "image/png": "[encoded data removed]",
      "text/plain": [
       "<Figure size 432x288 with 1 Axes>"
      ]
     },
     "metadata": {},
     "output_type": "display_data"
    }
   ],
   "source": [
    "train_accuracies = []\n",
    "test_accuracies = []\n",
    "# building KNN model for values of k from 1 to 7\n",
    "k_vals = [i for i in range(1, 8)]\n",
    "\n",
    "for k in k_vals:\n",
    "    model = KNeighborsClassifier(n_neighbors=k,metric='euclidean')\n",
    "    model.fit(X_train, y_train)\n",
    "    train_accuracy_k = model.score(X_train, y_train)\n",
    "    test_accuracy_k = model.score(X_test, y_test)\n",
    "    train_accuracies.append(train_accuracy_k)\n",
    "    test_accuracies.append(test_accuracy_k)\n",
    "    \n",
    "plt.plot(k_vals,train_accuracies)\n",
    "plt.plot(k_vals,test_accuracies)"
   ]
  },
  {
   "cell_type": "code",
   "execution_count": null,
   "metadata": {},
   "outputs": [],
   "source": []
  }
 ],
 "metadata": {
  "kernelspec": {
   "display_name": "Python 3",
   "language": "python",
   "name": "python3"
  },
  "language_info": {
   "codemirror_mode": {
    "name": "ipython",
    "version": 3
   },
   "file_extension": ".py",
   "mimetype": "text/x-python",
   "name": "python",
   "nbconvert_exporter": "python",
   "pygments_lexer": "ipython3",
   "version": "3.6.5"
  }
 },
 "nbformat": 4,
 "nbformat_minor": 2
}
